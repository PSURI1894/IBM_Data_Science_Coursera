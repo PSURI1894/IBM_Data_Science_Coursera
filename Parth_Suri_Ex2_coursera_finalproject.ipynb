{
 "cells": [
  {
   "cell_type": "markdown",
   "id": "d81bb8d0",
   "metadata": {},
   "source": [
    "## Exercise 1 - Course Completion Acknowledgement\n",
    "\n",
    "I confirm that I have completed all the course modules and will submit this final project created using JupyterLite Notebook on Skills Network labs."
   ]
  },
  {
   "cell_type": "markdown",
   "id": "1041c7c5",
   "metadata": {},
   "source": [
    "## Exercise 2 - Create a markdown cell with the title of the notebook\n",
    "\n",
    "# Final Project: Introduction to Data Science — JupyterLite Notebook"
   ]
  },
  {
   "cell_type": "markdown",
   "id": "051b5a27",
   "metadata": {},
   "source": [
    "## Exercise 3 - Introduction\n",
    "\n",
    "This notebook demonstrates basic JupyterLite usage and contains a short overview of data science languages, libraries, tools, and a few simple code examples. It is prepared as the final assignment for the course."
   ]
  },
  {
   "cell_type": "markdown",
   "id": "24ce8e59",
   "metadata": {},
   "source": [
    "## Exercise 4 - Data Science Languages\n",
    "\n",
    "- Python\n",
    "- R\n",
    "- SQL\n",
    "- Julia\n",
    "- Scala"
   ]
  },
  {
   "cell_type": "markdown",
   "id": "bbaecbb8",
   "metadata": {},
   "source": [
    "## Exercise 5 - Data Science Libraries\n",
    "\n",
    "- NumPy — numerical computing and arrays  \n",
    "- pandas — data manipulation and analysis  \n",
    "- Matplotlib — plotting and visualization  \n",
    "- scikit-learn — machine learning  \n",
    "- TensorFlow / PyTorch — deep learning"
   ]
  },
  {
   "cell_type": "markdown",
   "id": "a856adf4",
   "metadata": {},
   "source": [
    "## Exercise 6 - Data Science Tools\n",
    "\n",
    "| Tool / Platform | Purpose |\n",
    "|-----------------|---------|\n",
    "| Jupyter / JupyterLite | Interactive notebooks and demos |\n",
    "| GitHub | Version control and sharing |\n",
    "| Google Colab | Cloud notebooks with GPU options |\n",
    "| VS Code | Code editor and development |\n",
    "| Tableau / Power BI | Business intelligence & dashboards |"
   ]
  },
  {
   "cell_type": "markdown",
   "id": "3b7b1e49",
   "metadata": {},
   "source": [
    "## Exercise 7 - Arithmetic Expression Examples\n",
    "\n",
    "Below are simple Python examples showing arithmetic operations and a minutes-to-hours converter."
   ]
  },
  {
   "cell_type": "code",
   "execution_count": 1,
   "id": "61cdcb64",
   "metadata": {},
   "outputs": [
    {
     "name": "stdout",
     "output_type": "stream",
     "text": [
      "a = 7\n",
      "b = 5\n",
      "Product (a * b) = 35\n",
      "Sum (a + b) = 12\n"
     ]
    }
   ],
   "source": [
    "# Exercise 8: multiply and add numbers\n",
    "a = 7\n",
    "b = 5\n",
    "product = a * b\n",
    "sum_result = a + b\n",
    "\n",
    "print(\"a =\", a)\n",
    "print(\"b =\", b)\n",
    "print(\"Product (a * b) =\", product)\n",
    "print(\"Sum (a + b) =\", sum_result)\n"
   ]
  },
  {
   "cell_type": "markdown",
   "id": "35d3ff55",
   "metadata": {},
   "source": [
    "## Exercise 9 - Convert minutes to hours\n",
    "\n",
    "Below is a small function and some example conversions."
   ]
  },
  {
   "cell_type": "code",
   "execution_count": 2,
   "id": "670ccc42",
   "metadata": {},
   "outputs": [
    {
     "name": "stdout",
     "output_type": "stream",
     "text": [
      "45 minutes = 0 hour(s) and 45 minute(s)\n",
      "120 minutes = 2 hour(s) and 0 minute(s)\n",
      "135 minutes = 2 hour(s) and 15 minute(s)\n",
      "200 minutes = 3 hour(s) and 20 minute(s)\n"
     ]
    }
   ],
   "source": [
    "# Exercise 9: convert minutes to hours\n",
    "def minutes_to_hours(minutes):\n",
    "    hours = minutes // 60\n",
    "    remainder_minutes = minutes % 60\n",
    "    return hours, remainder_minutes\n",
    "\n",
    "# Example conversions\n",
    "mins_list = [45, 120, 135, 200]\n",
    "\n",
    "for m in mins_list:\n",
    "    h, r = minutes_to_hours(m)\n",
    "    print(f\"{m} minutes = {h} hour(s) and {r} minute(s)\")\n"
   ]
  },
  {
   "cell_type": "markdown",
   "id": "8b3ed154",
   "metadata": {},
   "source": [
    "## Exercise 10 - Objectives\n",
    "\n",
    "1. Learn how to create and format Markdown cells in JupyterLite.  \n",
    "2. Practice basic Python arithmetic and simple functions.  \n",
    "3. Publish and share a Jupyter notebook via a public GitHub repository."
   ]
  },
  {
   "cell_type": "markdown",
   "id": "d4d5e530",
   "metadata": {},
   "source": [
    "## Exercise 11 - Author\n",
    "\n",
    "Parth Suri\n"
   ]
  },
  {
   "cell_type": "markdown",
   "id": "f39f418c",
   "metadata": {},
   "source": [
    "## Exercise 12 - Share your notebook through GitHub\n",
    "\n",
    "Upload this notebook file (`Parth_Suri_Ex2_coursera_finalproject.ipynb`) to a **public GitHub repository** and provide the link for grading."
   ]
  },
  {
   "cell_type": "markdown",
   "id": "55104086",
   "metadata": {},
   "source": [
    "## Exercise 13 - Screenshot\n",
    "\n",
    "Take a screenshot of the first page of this notebook, ensuring the title and outputs of the first code cell are visible."
   ]
  },
  {
   "cell_type": "code",
   "execution_count": 3,
   "id": "60801f2f",
   "metadata": {},
   "outputs": [
    {
     "name": "stdout",
     "output_type": "stream",
     "text": [
      "Notebook complete!\n"
     ]
    }
   ],
   "source": [
    "print(\"Notebook complete!\")"
   ]
  }
 ],
 "metadata": {
  "language_info": {
   "name": "python"
  }
 },
 "nbformat": 4,
 "nbformat_minor": 5
}
