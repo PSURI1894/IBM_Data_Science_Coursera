{
 "cells": [
  {
   "cell_type": "markdown",
   "id": "9172655f",
   "metadata": {},
   "source": [
    "\n",
    "# Housing Price Prediction and Analysis  \n",
    "**Author:** Parth Suri\n",
    "Final Project - Real Estate Investment Trust  \n"
   ]
  },
  {
   "cell_type": "code",
   "execution_count": 1,
   "id": "303fdcaa",
   "metadata": {},
   "outputs": [
    {
     "data": {
      "text/html": [
       "<div>\n",
       "<style scoped>\n",
       "    .dataframe tbody tr th:only-of-type {\n",
       "        vertical-align: middle;\n",
       "    }\n",
       "\n",
       "    .dataframe tbody tr th {\n",
       "        vertical-align: top;\n",
       "    }\n",
       "\n",
       "    .dataframe thead th {\n",
       "        text-align: right;\n",
       "    }\n",
       "</style>\n",
       "<table border=\"1\" class=\"dataframe\">\n",
       "  <thead>\n",
       "    <tr style=\"text-align: right;\">\n",
       "      <th></th>\n",
       "      <th>id</th>\n",
       "      <th>Unnamed: 0</th>\n",
       "      <th>price</th>\n",
       "      <th>bedrooms</th>\n",
       "      <th>bathrooms</th>\n",
       "      <th>sqft_living</th>\n",
       "      <th>sqft_above</th>\n",
       "      <th>sqft_basement</th>\n",
       "      <th>sqft_living15</th>\n",
       "      <th>grade</th>\n",
       "      <th>view</th>\n",
       "      <th>waterfront</th>\n",
       "      <th>floors</th>\n",
       "      <th>lat</th>\n",
       "      <th>long</th>\n",
       "    </tr>\n",
       "  </thead>\n",
       "  <tbody>\n",
       "    <tr>\n",
       "      <th>0</th>\n",
       "      <td>1787846414</td>\n",
       "      <td>0</td>\n",
       "      <td>302811</td>\n",
       "      <td>3</td>\n",
       "      <td>1.49</td>\n",
       "      <td>908</td>\n",
       "      <td>459</td>\n",
       "      <td>449</td>\n",
       "      <td>796</td>\n",
       "      <td>3</td>\n",
       "      <td>4</td>\n",
       "      <td>0</td>\n",
       "      <td>2.0</td>\n",
       "      <td>47.404911</td>\n",
       "      <td>-121.848906</td>\n",
       "    </tr>\n",
       "    <tr>\n",
       "      <th>1</th>\n",
       "      <td>3563451924</td>\n",
       "      <td>1</td>\n",
       "      <td>447490</td>\n",
       "      <td>4</td>\n",
       "      <td>1.98</td>\n",
       "      <td>1978</td>\n",
       "      <td>1042</td>\n",
       "      <td>936</td>\n",
       "      <td>1964</td>\n",
       "      <td>4</td>\n",
       "      <td>0</td>\n",
       "      <td>0</td>\n",
       "      <td>2.0</td>\n",
       "      <td>47.695683</td>\n",
       "      <td>-122.454434</td>\n",
       "    </tr>\n",
       "    <tr>\n",
       "      <th>2</th>\n",
       "      <td>5537253172</td>\n",
       "      <td>2</td>\n",
       "      <td>734046</td>\n",
       "      <td>3</td>\n",
       "      <td>3.63</td>\n",
       "      <td>1944</td>\n",
       "      <td>1626</td>\n",
       "      <td>318</td>\n",
       "      <td>2043</td>\n",
       "      <td>10</td>\n",
       "      <td>0</td>\n",
       "      <td>0</td>\n",
       "      <td>1.0</td>\n",
       "      <td>47.506717</td>\n",
       "      <td>-122.347557</td>\n",
       "    </tr>\n",
       "    <tr>\n",
       "      <th>3</th>\n",
       "      <td>8395928407</td>\n",
       "      <td>3</td>\n",
       "      <td>565266</td>\n",
       "      <td>2</td>\n",
       "      <td>1.96</td>\n",
       "      <td>1552</td>\n",
       "      <td>939</td>\n",
       "      <td>613</td>\n",
       "      <td>1435</td>\n",
       "      <td>10</td>\n",
       "      <td>0</td>\n",
       "      <td>0</td>\n",
       "      <td>1.5</td>\n",
       "      <td>47.305602</td>\n",
       "      <td>-121.909794</td>\n",
       "    </tr>\n",
       "    <tr>\n",
       "      <th>4</th>\n",
       "      <td>5298312065</td>\n",
       "      <td>4</td>\n",
       "      <td>330003</td>\n",
       "      <td>4</td>\n",
       "      <td>2.36</td>\n",
       "      <td>1003</td>\n",
       "      <td>771</td>\n",
       "      <td>232</td>\n",
       "      <td>1055</td>\n",
       "      <td>9</td>\n",
       "      <td>0</td>\n",
       "      <td>0</td>\n",
       "      <td>2.0</td>\n",
       "      <td>47.166928</td>\n",
       "      <td>-122.088634</td>\n",
       "    </tr>\n",
       "  </tbody>\n",
       "</table>\n",
       "</div>"
      ],
      "text/plain": [
       "           id  Unnamed: 0   price  bedrooms  bathrooms  sqft_living  \\\n",
       "0  1787846414           0  302811         3       1.49          908   \n",
       "1  3563451924           1  447490         4       1.98         1978   \n",
       "2  5537253172           2  734046         3       3.63         1944   \n",
       "3  8395928407           3  565266         2       1.96         1552   \n",
       "4  5298312065           4  330003         4       2.36         1003   \n",
       "\n",
       "   sqft_above  sqft_basement  sqft_living15  grade  view  waterfront  floors  \\\n",
       "0         459            449            796      3     4           0     2.0   \n",
       "1        1042            936           1964      4     0           0     2.0   \n",
       "2        1626            318           2043     10     0           0     1.0   \n",
       "3         939            613           1435     10     0           0     1.5   \n",
       "4         771            232           1055      9     0           0     2.0   \n",
       "\n",
       "         lat        long  \n",
       "0  47.404911 -121.848906  \n",
       "1  47.695683 -122.454434  \n",
       "2  47.506717 -122.347557  \n",
       "3  47.305602 -121.909794  \n",
       "4  47.166928 -122.088634  "
      ]
     },
     "execution_count": 1,
     "metadata": {},
     "output_type": "execute_result"
    }
   ],
   "source": [
    "import pandas as pd\n",
    "import numpy as np\n",
    "import seaborn as sns\n",
    "import matplotlib.pyplot as plt\n",
    "from sklearn.linear_model import LinearRegression, Ridge\n",
    "from sklearn.pipeline import Pipeline\n",
    "from sklearn.preprocessing import StandardScaler, PolynomialFeatures\n",
    "from sklearn.model_selection import train_test_split\n",
    "\n",
    "# Load dataset\n",
    "df = pd.read_csv(\"housing_20000.csv\")   # or use part file e.g. housing_20000_part1.csv\n",
    "df.head()"
   ]
  },
  {
   "cell_type": "code",
   "execution_count": 2,
   "id": "b2d431f4",
   "metadata": {},
   "outputs": [
    {
     "data": {
      "text/plain": [
       "id                 int64\n",
       "Unnamed: 0         int64\n",
       "price              int64\n",
       "bedrooms           int64\n",
       "bathrooms        float64\n",
       "sqft_living        int64\n",
       "sqft_above         int64\n",
       "sqft_basement      int64\n",
       "sqft_living15      int64\n",
       "grade              int64\n",
       "view               int64\n",
       "waterfront         int64\n",
       "floors           float64\n",
       "lat              float64\n",
       "long             float64\n",
       "dtype: object"
      ]
     },
     "execution_count": 2,
     "metadata": {},
     "output_type": "execute_result"
    }
   ],
   "source": [
    "df.dtypes"
   ]
  },
  {
   "cell_type": "code",
   "execution_count": 3,
   "id": "13b58c21",
   "metadata": {},
   "outputs": [
    {
     "data": {
      "text/html": [
       "<div>\n",
       "<style scoped>\n",
       "    .dataframe tbody tr th:only-of-type {\n",
       "        vertical-align: middle;\n",
       "    }\n",
       "\n",
       "    .dataframe tbody tr th {\n",
       "        vertical-align: top;\n",
       "    }\n",
       "\n",
       "    .dataframe thead th {\n",
       "        text-align: right;\n",
       "    }\n",
       "</style>\n",
       "<table border=\"1\" class=\"dataframe\">\n",
       "  <thead>\n",
       "    <tr style=\"text-align: right;\">\n",
       "      <th></th>\n",
       "      <th>price</th>\n",
       "      <th>bedrooms</th>\n",
       "      <th>bathrooms</th>\n",
       "      <th>sqft_living</th>\n",
       "      <th>sqft_above</th>\n",
       "      <th>sqft_basement</th>\n",
       "      <th>sqft_living15</th>\n",
       "      <th>grade</th>\n",
       "      <th>view</th>\n",
       "      <th>waterfront</th>\n",
       "      <th>floors</th>\n",
       "      <th>lat</th>\n",
       "      <th>long</th>\n",
       "    </tr>\n",
       "  </thead>\n",
       "  <tbody>\n",
       "    <tr>\n",
       "      <th>count</th>\n",
       "      <td>2.000000e+04</td>\n",
       "      <td>20000.000000</td>\n",
       "      <td>20000.000000</td>\n",
       "      <td>20000.000000</td>\n",
       "      <td>20000.000000</td>\n",
       "      <td>20000.00000</td>\n",
       "      <td>20000.000000</td>\n",
       "      <td>20000.000000</td>\n",
       "      <td>20000.000000</td>\n",
       "      <td>20000.000000</td>\n",
       "      <td>20000.000000</td>\n",
       "      <td>20000.000000</td>\n",
       "      <td>20000.000000</td>\n",
       "    </tr>\n",
       "    <tr>\n",
       "      <th>mean</th>\n",
       "      <td>5.202237e+05</td>\n",
       "      <td>3.245900</td>\n",
       "      <td>2.013270</td>\n",
       "      <td>1768.013600</td>\n",
       "      <td>1323.458800</td>\n",
       "      <td>444.55480</td>\n",
       "      <td>1597.551100</td>\n",
       "      <td>7.003200</td>\n",
       "      <td>0.320650</td>\n",
       "      <td>0.005250</td>\n",
       "      <td>1.524725</td>\n",
       "      <td>47.450899</td>\n",
       "      <td>-121.999341</td>\n",
       "    </tr>\n",
       "    <tr>\n",
       "      <th>std</th>\n",
       "      <td>3.776254e+05</td>\n",
       "      <td>1.318264</td>\n",
       "      <td>0.780273</td>\n",
       "      <td>1156.436225</td>\n",
       "      <td>918.916442</td>\n",
       "      <td>423.50364</td>\n",
       "      <td>1110.126335</td>\n",
       "      <td>3.728858</td>\n",
       "      <td>0.856487</td>\n",
       "      <td>0.072268</td>\n",
       "      <td>0.622772</td>\n",
       "      <td>0.202564</td>\n",
       "      <td>0.287777</td>\n",
       "    </tr>\n",
       "    <tr>\n",
       "      <th>min</th>\n",
       "      <td>2.000000e+04</td>\n",
       "      <td>1.000000</td>\n",
       "      <td>0.500000</td>\n",
       "      <td>300.000000</td>\n",
       "      <td>150.000000</td>\n",
       "      <td>1.00000</td>\n",
       "      <td>180.000000</td>\n",
       "      <td>1.000000</td>\n",
       "      <td>0.000000</td>\n",
       "      <td>0.000000</td>\n",
       "      <td>1.000000</td>\n",
       "      <td>47.100002</td>\n",
       "      <td>-122.499985</td>\n",
       "    </tr>\n",
       "    <tr>\n",
       "      <th>25%</th>\n",
       "      <td>2.697938e+05</td>\n",
       "      <td>2.000000</td>\n",
       "      <td>1.460000</td>\n",
       "      <td>980.000000</td>\n",
       "      <td>704.000000</td>\n",
       "      <td>154.00000</td>\n",
       "      <td>849.000000</td>\n",
       "      <td>4.000000</td>\n",
       "      <td>0.000000</td>\n",
       "      <td>0.000000</td>\n",
       "      <td>1.000000</td>\n",
       "      <td>47.275122</td>\n",
       "      <td>-122.247408</td>\n",
       "    </tr>\n",
       "    <tr>\n",
       "      <th>50%</th>\n",
       "      <td>4.248425e+05</td>\n",
       "      <td>3.000000</td>\n",
       "      <td>2.010000</td>\n",
       "      <td>1485.000000</td>\n",
       "      <td>1088.000000</td>\n",
       "      <td>328.00000</td>\n",
       "      <td>1310.000000</td>\n",
       "      <td>7.000000</td>\n",
       "      <td>0.000000</td>\n",
       "      <td>0.000000</td>\n",
       "      <td>1.000000</td>\n",
       "      <td>47.448693</td>\n",
       "      <td>-121.999291</td>\n",
       "    </tr>\n",
       "    <tr>\n",
       "      <th>75%</th>\n",
       "      <td>6.613320e+05</td>\n",
       "      <td>4.000000</td>\n",
       "      <td>2.540000</td>\n",
       "      <td>2223.000000</td>\n",
       "      <td>1669.000000</td>\n",
       "      <td>600.00000</td>\n",
       "      <td>2013.000000</td>\n",
       "      <td>10.000000</td>\n",
       "      <td>0.000000</td>\n",
       "      <td>0.000000</td>\n",
       "      <td>2.000000</td>\n",
       "      <td>47.625468</td>\n",
       "      <td>-121.752219</td>\n",
       "    </tr>\n",
       "    <tr>\n",
       "      <th>max</th>\n",
       "      <td>4.125298e+06</td>\n",
       "      <td>7.000000</td>\n",
       "      <td>5.090000</td>\n",
       "      <td>10000.000000</td>\n",
       "      <td>9739.000000</td>\n",
       "      <td>4992.00000</td>\n",
       "      <td>11863.000000</td>\n",
       "      <td>13.000000</td>\n",
       "      <td>4.000000</td>\n",
       "      <td>1.000000</td>\n",
       "      <td>3.000000</td>\n",
       "      <td>47.799951</td>\n",
       "      <td>-121.500160</td>\n",
       "    </tr>\n",
       "  </tbody>\n",
       "</table>\n",
       "</div>"
      ],
      "text/plain": [
       "              price      bedrooms     bathrooms   sqft_living    sqft_above  \\\n",
       "count  2.000000e+04  20000.000000  20000.000000  20000.000000  20000.000000   \n",
       "mean   5.202237e+05      3.245900      2.013270   1768.013600   1323.458800   \n",
       "std    3.776254e+05      1.318264      0.780273   1156.436225    918.916442   \n",
       "min    2.000000e+04      1.000000      0.500000    300.000000    150.000000   \n",
       "25%    2.697938e+05      2.000000      1.460000    980.000000    704.000000   \n",
       "50%    4.248425e+05      3.000000      2.010000   1485.000000   1088.000000   \n",
       "75%    6.613320e+05      4.000000      2.540000   2223.000000   1669.000000   \n",
       "max    4.125298e+06      7.000000      5.090000  10000.000000   9739.000000   \n",
       "\n",
       "       sqft_basement  sqft_living15         grade          view    waterfront  \\\n",
       "count    20000.00000   20000.000000  20000.000000  20000.000000  20000.000000   \n",
       "mean       444.55480    1597.551100      7.003200      0.320650      0.005250   \n",
       "std        423.50364    1110.126335      3.728858      0.856487      0.072268   \n",
       "min          1.00000     180.000000      1.000000      0.000000      0.000000   \n",
       "25%        154.00000     849.000000      4.000000      0.000000      0.000000   \n",
       "50%        328.00000    1310.000000      7.000000      0.000000      0.000000   \n",
       "75%        600.00000    2013.000000     10.000000      0.000000      0.000000   \n",
       "max       4992.00000   11863.000000     13.000000      4.000000      1.000000   \n",
       "\n",
       "             floors           lat          long  \n",
       "count  20000.000000  20000.000000  20000.000000  \n",
       "mean       1.524725     47.450899   -121.999341  \n",
       "std        0.622772      0.202564      0.287777  \n",
       "min        1.000000     47.100002   -122.499985  \n",
       "25%        1.000000     47.275122   -122.247408  \n",
       "50%        1.000000     47.448693   -121.999291  \n",
       "75%        2.000000     47.625468   -121.752219  \n",
       "max        3.000000     47.799951   -121.500160  "
      ]
     },
     "execution_count": 3,
     "metadata": {},
     "output_type": "execute_result"
    }
   ],
   "source": [
    "df.drop([\"id\", \"Unnamed: 0\"], axis=1, inplace=True)\n",
    "df.describe()"
   ]
  },
  {
   "cell_type": "code",
   "execution_count": 4,
   "id": "08e3baaf",
   "metadata": {},
   "outputs": [
    {
     "data": {
      "text/html": [
       "<div>\n",
       "<style scoped>\n",
       "    .dataframe tbody tr th:only-of-type {\n",
       "        vertical-align: middle;\n",
       "    }\n",
       "\n",
       "    .dataframe tbody tr th {\n",
       "        vertical-align: top;\n",
       "    }\n",
       "\n",
       "    .dataframe thead th {\n",
       "        text-align: right;\n",
       "    }\n",
       "</style>\n",
       "<table border=\"1\" class=\"dataframe\">\n",
       "  <thead>\n",
       "    <tr style=\"text-align: right;\">\n",
       "      <th></th>\n",
       "      <th>count</th>\n",
       "    </tr>\n",
       "    <tr>\n",
       "      <th>floors</th>\n",
       "      <th></th>\n",
       "    </tr>\n",
       "  </thead>\n",
       "  <tbody>\n",
       "    <tr>\n",
       "      <th>1.0</th>\n",
       "      <td>10010</td>\n",
       "    </tr>\n",
       "    <tr>\n",
       "      <th>2.0</th>\n",
       "      <td>3960</td>\n",
       "    </tr>\n",
       "    <tr>\n",
       "      <th>1.5</th>\n",
       "      <td>3015</td>\n",
       "    </tr>\n",
       "    <tr>\n",
       "      <th>2.5</th>\n",
       "      <td>2006</td>\n",
       "    </tr>\n",
       "    <tr>\n",
       "      <th>3.0</th>\n",
       "      <td>1009</td>\n",
       "    </tr>\n",
       "  </tbody>\n",
       "</table>\n",
       "</div>"
      ],
      "text/plain": [
       "        count\n",
       "floors       \n",
       "1.0     10010\n",
       "2.0      3960\n",
       "1.5      3015\n",
       "2.5      2006\n",
       "3.0      1009"
      ]
     },
     "execution_count": 4,
     "metadata": {},
     "output_type": "execute_result"
    }
   ],
   "source": [
    "df[\"floors\"].value_counts().to_frame()"
   ]
  },
  {
   "cell_type": "code",
   "execution_count": 5,
   "id": "0e0480a2",
   "metadata": {},
   "outputs": [
    {
     "data": {
      "image/png": "[encoded data removed]",
      "text/plain": [
       "<Figure size 640x480 with 1 Axes>"
      ]
     },
     "metadata": {},
     "output_type": "display_data"
    }
   ],
   "source": [
    "sns.boxplot(x=\"waterfront\", y=\"price\", data=df)\n",
    "plt.title(\"Price Outliers by Waterfront View\")\n",
    "plt.show()"
   ]
  },
  {
   "cell_type": "code",
   "execution_count": 6,
   "id": "3e7ffebc",
   "metadata": {},
   "outputs": [
    {
     "data": {
      "image/png": "[encoded data removed]",
      "text/plain": [
       "<Figure size 640x480 with 1 Axes>"
      ]
     },
     "metadata": {},
     "output_type": "display_data"
    }
   ],
   "source": [
    "sns.regplot(x=\"sqft_above\", y=\"price\", data=df, line_kws={\"color\":\"red\"})\n",
    "plt.title(\"Correlation between sqft_above and price\")\n",
    "plt.show()"
   ]
  },
  {
   "cell_type": "code",
   "execution_count": 7,
   "id": "7b7e4ab2",
   "metadata": {},
   "outputs": [
    {
     "name": "stdout",
     "output_type": "stream",
     "text": [
      "R^2 with sqft_living: 0.8063749657608313\n"
     ]
    }
   ],
   "source": [
    "X = df[[\"sqft_living\"]]\n",
    "y = df[\"price\"]\n",
    "\n",
    "lm = LinearRegression()\n",
    "lm.fit(X, y)\n",
    "\n",
    "r2 = lm.score(X, y)\n",
    "print(\"R^2 with sqft_living:\", r2)"
   ]
  },
  {
   "cell_type": "code",
   "execution_count": 8,
   "id": "03ece7ed",
   "metadata": {},
   "outputs": [
    {
     "name": "stdout",
     "output_type": "stream",
     "text": [
      "R^2 with multiple features: 0.9310661081008227\n"
     ]
    }
   ],
   "source": [
    "features = [\"floors\", \"waterfront\", \"lat\", \"bedrooms\", \n",
    "            \"sqft_basement\", \"view\", \"bathrooms\", \n",
    "            \"sqft_living15\", \"sqft_above\", \"grade\", \"sqft_living\"]\n",
    "\n",
    "X = df[features]\n",
    "y = df[\"price\"]\n",
    "\n",
    "lm_multi = LinearRegression()\n",
    "lm_multi.fit(X, y)\n",
    "\n",
    "r2_multi = lm_multi.score(X, y)\n",
    "print(\"R^2 with multiple features:\", r2_multi)"
   ]
  },
  {
   "cell_type": "code",
   "execution_count": 9,
   "id": "3a0cae93",
   "metadata": {},
   "outputs": [
    {
     "name": "stdout",
     "output_type": "stream",
     "text": [
      "R^2 with polynomial pipeline: 0.9826916995705233\n"
     ]
    }
   ],
   "source": [
    "Input = [(\"scale\", StandardScaler()), \n",
    "         (\"polynomial\", PolynomialFeatures(degree=2, include_bias=False)), \n",
    "         (\"model\", LinearRegression())]\n",
    "\n",
    "pipe = Pipeline(Input)\n",
    "pipe.fit(X, y)\n",
    "\n",
    "r2_pipe = pipe.score(X, y)\n",
    "print(\"R^2 with polynomial pipeline:\", r2_pipe)"
   ]
  },
  {
   "cell_type": "code",
   "execution_count": 10,
   "id": "fc718edf",
   "metadata": {},
   "outputs": [
    {
     "name": "stdout",
     "output_type": "stream",
     "text": [
      "R^2 with Ridge (alpha=0.1): 0.9334047847243996\n"
     ]
    }
   ],
   "source": [
    "X_train, X_test, y_train, y_test = train_test_split(X, y, test_size=0.15, random_state=42)\n",
    "\n",
    "ridge = Ridge(alpha=0.1)\n",
    "ridge.fit(X_train, y_train)\n",
    "\n",
    "r2_ridge = ridge.score(X_test, y_test)\n",
    "print(\"R^2 with Ridge (alpha=0.1):\", r2_ridge)"
   ]
  },
  {
   "cell_type": "code",
   "execution_count": 11,
   "id": "b1d18e3f",
   "metadata": {},
   "outputs": [
    {
     "name": "stdout",
     "output_type": "stream",
     "text": [
      "R^2 with Ridge + Polynomial (alpha=0.1): 0.9825041991840767\n"
     ]
    }
   ],
   "source": [
    "poly = PolynomialFeatures(degree=2, include_bias=False)\n",
    "X_train_poly = poly.fit_transform(X_train)\n",
    "X_test_poly = poly.transform(X_test)\n",
    "\n",
    "ridge_poly = Ridge(alpha=0.1)\n",
    "ridge_poly.fit(X_train_poly, y_train)\n",
    "\n",
    "r2_ridge_poly = ridge_poly.score(X_test_poly, y_test)\n",
    "print(\"R^2 with Ridge + Polynomial (alpha=0.1):\", r2_ridge_poly)"
   ]
  }
 ],
 "metadata": {
  "kernelspec": {
   "display_name": "Python 3",
   "language": "python",
   "name": "python3"
  },
  "language_info": {
   "codemirror_mode": {
    "name": "ipython",
    "version": 3
   },
   "file_extension": ".py",
   "mimetype": "text/x-python",
   "name": "python",
   "nbconvert_exporter": "python",
   "pygments_lexer": "ipython3",
   "version": "3.11.1"
  }
 },
 "nbformat": 4,
 "nbformat_minor": 5
}
